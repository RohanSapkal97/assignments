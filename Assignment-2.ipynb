{
 "cells": [
  {
   "cell_type": "markdown",
   "id": "1d217d41",
   "metadata": {},
   "source": [
    "# Q1\n",
    "\n",
    "In Python, there are two main types of comments:\n",
    "\n",
    "Single-line comments:\n",
    "Single-line comments are used for adding comments that span only one line. To create a single-line comment in Python, you can use the hash symbol (#) at the beginning of the line. Everything after the hash symbol on that line will be considered a comment and will be ignored by the Python interpreter.\n",
    "\n",
    "Multi-line comments:\n",
    "Multi-line comments are used when you need to write comments that span multiple lines. Python does not have a built-in syntax for multi-line comments, but you can achieve this using multi-line strings, also known as triple-quoted strings. Triple-quoted strings are enclosed by three single quotes (''') or three double quotes (\"\"\").\n"
   ]
  },
  {
   "cell_type": "markdown",
   "id": "42c671a2",
   "metadata": {},
   "source": [
    "# Q2\n",
    "\n",
    "In Python, variables are used to store data values in memory. A variable is like a container that holds a value, and the value can be of any data type, such as numbers, strings, lists, or more complex data structures.\n",
    "\n",
    "To declare a variable and assign a value to it, use the assignment operator (=):\n",
    "    \n",
    "variable_name = value\n",
    "\n",
    "It's essential to follow the rules for variable names in Python:\n",
    "\n",
    "* The variable name must start with a letter (a-z, A-Z) or an underscore (_).\n",
    "* The variable name can contain letters, numbers, and underscores.\n",
    "* Variable names are case-sensitive, meaning variable and Variable are different variables."
   ]
  },
  {
   "cell_type": "markdown",
   "id": "81d7f168",
   "metadata": {},
   "source": [
    "# Q3\n",
    "\n",
    "In Python, you can convert one data type to another using type conversion functions.\n",
    "\n",
    "1. int(): Used to convert a value to an integer data type.\n",
    "    \n",
    "2. float(): Used to convert a value to a floating-point (decimal) data type.\n",
    "\n",
    "3. str(): Used to convert a value to a string data type.\n",
    "\n",
    "4. bool(): Used to convert a value to a Boolean data type (True or False)."
   ]
  },
  {
   "cell_type": "markdown",
   "id": "c05d4980",
   "metadata": {},
   "source": [
    "# Q4\n",
    "\n",
    "Step 1: Open a text editor (such as Notepad, Visual Studio Code, or Sublime Text) and write your Python code in it.\n",
    "\n",
    "Step 2: Save the file with a .py extension, which indicates that it's a Python script.\n",
    "\n",
    "Step 3: Open the command prompt.\n",
    "\n",
    "Step 4: Navigate to the directory where you saved your Python script using 'cd' command.\n",
    "\n",
    "Step 5: Then run the Python script using the python command followed by the script's filename. Example: python hello.py\n",
    "\n",
    "Step 6: Press Enter, and the Python script will be executed."
   ]
  },
  {
   "cell_type": "code",
   "execution_count": 1,
   "id": "be47c549",
   "metadata": {},
   "outputs": [
    {
     "name": "stdout",
     "output_type": "stream",
     "text": [
      "[2, 3]\n"
     ]
    }
   ],
   "source": [
    "#Q5\n",
    "\n",
    "my_list = [1, 2, 3, 4, 5]\n",
    "\n",
    "sub_list = my_list[1:3]\n",
    "\n",
    "print(sub_list)"
   ]
  },
  {
   "cell_type": "markdown",
   "id": "da2bdc73",
   "metadata": {},
   "source": [
    "# Q6\n",
    "\n",
    "In mathematics, a complex number is a number that comprises both a real part and an imaginary part. It is written in the form 'a + bi', where 'a' is the real part, 'b' is the imaginary part, and 'i' is the imaginary unit. The imaginary unit is used to represent the square root of a negative number, which is not defined in the real number system.\n",
    "\n",
    "Complex number representation in python:\n",
    "z = 3 + 4j"
   ]
  },
  {
   "cell_type": "markdown",
   "id": "80b82247",
   "metadata": {},
   "source": [
    "# Q7\n",
    "\n",
    "In Python, the correct way to declare a variable named age and assign the value 25 to it is simply by using the '='.\n",
    "\n",
    "age = 25"
   ]
  },
  {
   "cell_type": "code",
   "execution_count": 3,
   "id": "09490e71",
   "metadata": {},
   "outputs": [
    {
     "name": "stdout",
     "output_type": "stream",
     "text": [
      "<class 'float'>\n"
     ]
    }
   ],
   "source": [
    "#Q8\n",
    "\n",
    "price = 9.99\n",
    "print(type(price))"
   ]
  },
  {
   "cell_type": "code",
   "execution_count": 4,
   "id": "5a1bd1aa",
   "metadata": {},
   "outputs": [
    {
     "name": "stdout",
     "output_type": "stream",
     "text": [
      "Rohan Sunil Sapkal\n"
     ]
    }
   ],
   "source": [
    "#Q9\n",
    "\n",
    "name = \"Rohan Sunil Sapkal\"\n",
    "print(name)"
   ]
  },
  {
   "cell_type": "code",
   "execution_count": 5,
   "id": "593337dc",
   "metadata": {},
   "outputs": [
    {
     "name": "stdout",
     "output_type": "stream",
     "text": [
      "World\n"
     ]
    }
   ],
   "source": [
    "#Q10\n",
    "\n",
    "string = \"Hello, World!\"\n",
    "\n",
    "substring = string[7:12]\n",
    "\n",
    "print(substring)"
   ]
  },
  {
   "cell_type": "code",
   "execution_count": 6,
   "id": "f6dff46c",
   "metadata": {},
   "outputs": [],
   "source": [
    "#Q11\n",
    "\n",
    "is_student = True"
   ]
  },
  {
   "cell_type": "code",
   "execution_count": null,
   "id": "77c9360b",
   "metadata": {},
   "outputs": [],
   "source": []
  }
 ],
 "metadata": {
  "kernelspec": {
   "display_name": "Python 3 (ipykernel)",
   "language": "python",
   "name": "python3"
  },
  "language_info": {
   "codemirror_mode": {
    "name": "ipython",
    "version": 3
   },
   "file_extension": ".py",
   "mimetype": "text/x-python",
   "name": "python",
   "nbconvert_exporter": "python",
   "pygments_lexer": "ipython3",
   "version": "3.9.12"
  }
 },
 "nbformat": 4,
 "nbformat_minor": 5
}
