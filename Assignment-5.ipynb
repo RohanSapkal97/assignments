{
 "cells": [
  {
   "cell_type": "code",
   "execution_count": 1,
   "id": "43cbbfc0",
   "metadata": {},
   "outputs": [
    {
     "name": "stdout",
     "output_type": "stream",
     "text": [
      "Buddy\n",
      "Labrador\n"
     ]
    }
   ],
   "source": [
    "# Q1\n",
    "\n",
    "'''\n",
    "Class:\n",
    "\n",
    "A class is a blueprint or template for creating objects. It defines the attributes (data) and methods (functions) that the objects of that class will have.\n",
    "Think of a class as a blueprint for creating instances of objects that share similar characteristics and behavior.\n",
    "It serves as a container for data (attributes) and functions (methods) that operate on that data.\n",
    "\n",
    "Object:\n",
    "\n",
    "An object is an instance of a class. It is a concrete representation of the data and behavior defined by the class.\n",
    "Objects are real-world entities that can be manipulated, interacted with, and used in the program.\n",
    "Each object created from a class has its own unique set of attributes, but it shares the same methods defined in the class.\n",
    "\n",
    "Example:\n",
    "'''\n",
    "class Dog:\n",
    "    def __init__(self, name, breed):\n",
    "        self.name = name\n",
    "        self.breed = breed\n",
    "\n",
    "dog1 = Dog(\"Buddy\", \"Golden Retriever\")\n",
    "dog2 = Dog(\"Charlie\", \"Labrador\")\n",
    "\n",
    "print(dog1.name)         \n",
    "print(dog2.breed)        "
   ]
  },
  {
   "cell_type": "markdown",
   "id": "d6533779",
   "metadata": {},
   "source": [
    "# Q2\n",
    "\n",
    "The four pillars of Object-Oriented Programming (OOP) are:\n",
    "\n",
    "1) Encapsulation:\n",
    "Encapsulation is the concept of bundling data (attributes) and methods (functions) that operate on the data into a single unit called a class. It allows you to control access to the internal state of an object, ensuring that the data remains consistent and protected from unauthorized access.\n",
    "\n",
    "2) Abstraction:\n",
    "Abstraction is the process of hiding the complex implementation details of an object and exposing only the essential features and behaviors. It helps in managing complexity by providing a high-level view of an object's functionality, making it easier to understand and use.\n",
    "\n",
    "3) Inheritance:\n",
    "Inheritance is the mechanism that allows a new class (subclass or derived class) to inherit properties and behaviors from an existing class (superclass or base class). Inheritance promotes code reuse, as subclasses can reuse the attributes and methods of their parent classes while also adding their own specific features.\n",
    "\n",
    "4) Polymorphism:\n",
    "Polymorphism allows objects of different classes to be treated as objects of a common superclass. It enables you to write code that can work with objects of various classes without needing to know their specific types. Polymorphism is achieved through method overriding (providing a specific implementation in a subclass) and method overloading (defining multiple methods with the same name but different parameter lists)."
   ]
  },
  {
   "cell_type": "code",
   "execution_count": 2,
   "id": "9f2bb012",
   "metadata": {},
   "outputs": [
    {
     "name": "stdout",
     "output_type": "stream",
     "text": [
      "Name: Rohan, Age: 18, Grade: A\n",
      "Name: Mohan, Age: 17, Grade: B\n"
     ]
    }
   ],
   "source": [
    "# Q3\n",
    "\n",
    "'''\n",
    "The __init__() function is a special method in Python that is automatically called when an object of a class is created. It is also known as the constructor method. The primary purpose of the __init__() function is to initialize the attributes (data members) of an object when it is instantiated from a class.\n",
    "\n",
    "Example:\n",
    "'''\n",
    "\n",
    "class Student:\n",
    "    def __init__(self, name, age, grade):\n",
    "        self.name = name\n",
    "        self.age = age\n",
    "        self.grade = grade\n",
    "\n",
    "    def display_info(self):\n",
    "        print(f\"Name: {self.name}, Age: {self.age}, Grade: {self.grade}\")\n",
    "\n",
    "student1 = Student(\"Rohan\", 18, \"A\")\n",
    "student2 = Student(\"Mohan\", 17, \"B\")\n",
    "\n",
    "student1.display_info()  \n",
    "student2.display_info()  \n"
   ]
  },
  {
   "cell_type": "markdown",
   "id": "b3b823f0",
   "metadata": {},
   "source": [
    "# Q4\n",
    "\n",
    "Self is a convention that refers to the instance of the class itself. It is used within class methods to access and manipulate the attributes and methods of that instance."
   ]
  },
  {
   "cell_type": "code",
   "execution_count": 3,
   "id": "fff42b8b",
   "metadata": {},
   "outputs": [],
   "source": [
    "#Q5\n",
    "\n",
    "'''\n",
    "Inheritance is a fundamental concept in object-oriented programming (OOP) that allows a new \n",
    "class (subclass or derived class) to inherit attributes and behaviors (methods) from an existing \n",
    "class (superclass or base class).\n",
    "\n",
    "\n",
    "1) Single Inheritance:\n",
    "In single inheritance, a subclass inherits from only one superclass. \n",
    "This forms a linear chain of classes, where each class inherits from the one above it in the hierarchy.\n",
    "\n",
    "Example:\n",
    "'''\n",
    "\n",
    "class Animal:\n",
    "    def speak(self):\n",
    "        pass\n",
    "\n",
    "class Dog(Animal):\n",
    "    def speak(self):\n",
    "        return \"Woof!\"\n",
    "\n",
    "class Cat(Animal):\n",
    "    def speak(self):\n",
    "        return \"Meow!\""
   ]
  },
  {
   "cell_type": "code",
   "execution_count": 4,
   "id": "278294f5",
   "metadata": {},
   "outputs": [],
   "source": [
    "'''\n",
    "2) Multiple Inheritance:\n",
    "In multiple inheritance, a subclass inherits from more than one superclass. \n",
    "This allows the subclass to inherit attributes and methods from multiple sources.\n",
    "\n",
    "Example:\n",
    "'''\n",
    "\n",
    "class Bird:\n",
    "    def fly(self):\n",
    "        pass\n",
    "\n",
    "class Mammal:\n",
    "    def walk(self):\n",
    "        pass\n",
    "\n",
    "class Bat(Bird, Mammal):\n",
    "    pass"
   ]
  },
  {
   "cell_type": "code",
   "execution_count": 5,
   "id": "efcd3507",
   "metadata": {},
   "outputs": [],
   "source": [
    "'''\n",
    "3) Multilevel Inheritance:\n",
    "Multilevel inheritance involves a chain of inheritance with multiple levels of subclasses. \n",
    "A subclass inherits from another subclass, forming a hierarchical structure.\n",
    "\n",
    "Example:\n",
    "'''\n",
    "\n",
    "class Animal:\n",
    "    def speak(self):\n",
    "        pass\n",
    "\n",
    "class Mammal(Animal):\n",
    "    pass\n",
    "\n",
    "class Dog(Mammal):\n",
    "    def speak(self):\n",
    "        return \"Woof!\""
   ]
  },
  {
   "cell_type": "code",
   "execution_count": 6,
   "id": "30c37dc6",
   "metadata": {},
   "outputs": [],
   "source": [
    "'''\n",
    "4) Hierarchical Inheritance:\n",
    "Hierarchical inheritance involves a single superclass inherited by multiple subclasses. \n",
    "It creates a hierarchical structure with a common base class.\n",
    "\n",
    "Example:\n",
    "'''\n",
    "\n",
    "class Shape:\n",
    "    def area(self):\n",
    "        pass\n",
    "\n",
    "class Circle(Shape):\n",
    "    def area(self):\n",
    "        return 3.14 * self.radius * self.radius\n",
    "\n",
    "class Rectangle(Shape):\n",
    "    def area(self):\n",
    "        return self.length * self.width"
   ]
  },
  {
   "cell_type": "code",
   "execution_count": 7,
   "id": "23d153f8",
   "metadata": {},
   "outputs": [],
   "source": [
    "'''\n",
    "5) Hybrid Inheritance:\n",
    "Hybrid inheritance combines multiple types of inheritance mentioned above. It can involve a combination of single, \n",
    "multiple, multilevel, or hierarchical inheritance.\n",
    "\n",
    "Example:\n",
    "'''\n",
    "\n",
    "class A:\n",
    "    def method_a(self):\n",
    "        pass\n",
    "\n",
    "class B(A):\n",
    "    def method_b(self):\n",
    "        pass\n",
    "\n",
    "class C(A):\n",
    "    def method_c(self):\n",
    "        pass\n",
    "\n",
    "class D(B, C):\n",
    "    pass"
   ]
  },
  {
   "cell_type": "code",
   "execution_count": null,
   "id": "7e867ed4",
   "metadata": {},
   "outputs": [],
   "source": []
  }
 ],
 "metadata": {
  "kernelspec": {
   "display_name": "Python 3 (ipykernel)",
   "language": "python",
   "name": "python3"
  },
  "language_info": {
   "codemirror_mode": {
    "name": "ipython",
    "version": 3
   },
   "file_extension": ".py",
   "mimetype": "text/x-python",
   "name": "python",
   "nbconvert_exporter": "python",
   "pygments_lexer": "ipython3",
   "version": "3.9.12"
  }
 },
 "nbformat": 4,
 "nbformat_minor": 5
}
