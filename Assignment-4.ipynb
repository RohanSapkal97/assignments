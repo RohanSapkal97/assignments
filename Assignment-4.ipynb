{
 "cells": [
  {
   "cell_type": "code",
   "execution_count": 1,
   "id": "176aeffb",
   "metadata": {},
   "outputs": [
    {
     "name": "stdout",
     "output_type": "stream",
     "text": [
      "Virat Kohli: 24936\n",
      "Jack Kallis: 25534\n",
      "Ricky Ponting: 27483\n",
      "Sachin Tendulkar: 34357\n"
     ]
    }
   ],
   "source": [
    "#Q1\n",
    "\n",
    "player_runs = [('Sachin Tendulkar', 34357), ('Ricky Ponting', 27483), ('Jack Kallis', 25534), ('Virat Kohli', 24936)]\n",
    "\n",
    "sorted_players = sorted(player_runs, key=lambda x: x[1])\n",
    "\n",
    "for player, runs in sorted_players:\n",
    "    print(f\"{player}: {runs}\")"
   ]
  },
  {
   "cell_type": "code",
   "execution_count": 2,
   "id": "fdd83ba8",
   "metadata": {},
   "outputs": [
    {
     "name": "stdout",
     "output_type": "stream",
     "text": [
      "[1, 4, 9, 16, 25, 36, 49, 64, 81, 100]\n"
     ]
    }
   ],
   "source": [
    "#Q2\n",
    "\n",
    "numbers = [1, 2, 3, 4, 5, 6, 7, 8, 9, 10]\n",
    "\n",
    "squares = map(lambda x: x ** 2, numbers)\n",
    "\n",
    "squares_list = list(squares)\n",
    "print(squares_list)\n"
   ]
  },
  {
   "cell_type": "code",
   "execution_count": 3,
   "id": "fa682657",
   "metadata": {},
   "outputs": [
    {
     "name": "stdout",
     "output_type": "stream",
     "text": [
      "('1', '2', '3', '4', '5', '6', '7', '8', '9', '10')\n"
     ]
    }
   ],
   "source": [
    "#Q3\n",
    "\n",
    "numbers = [1, 2, 3, 4, 5, 6, 7, 8, 9, 10]\n",
    "\n",
    "strings_tuple = tuple(map(lambda x: str(x), numbers))\n",
    "\n",
    "print(strings_tuple)\n"
   ]
  },
  {
   "cell_type": "code",
   "execution_count": 4,
   "id": "0cdd6fa7",
   "metadata": {},
   "outputs": [
    {
     "name": "stdout",
     "output_type": "stream",
     "text": [
      "15511210043330985984000000\n"
     ]
    }
   ],
   "source": [
    "#Q4\n",
    "\n",
    "from functools import reduce\n",
    "import operator\n",
    "\n",
    "numbers_list = list(range(1, 26))\n",
    "\n",
    "product = reduce(operator.mul, numbers_list)\n",
    "\n",
    "print(product)\n"
   ]
  },
  {
   "cell_type": "code",
   "execution_count": 5,
   "id": "8973e496",
   "metadata": {},
   "outputs": [
    {
     "name": "stdout",
     "output_type": "stream",
     "text": [
      "[6, 60, 90, 120]\n"
     ]
    }
   ],
   "source": [
    "#Q5\n",
    "\n",
    "def divisible_by_2_and_3(num):\n",
    "    return num % 2 == 0 and num % 3 == 0\n",
    "\n",
    "numbers_list = [2, 3, 6, 9, 27, 60, 90, 120, 55, 46]\n",
    "\n",
    "filtered_numbers = filter(divisible_by_2_and_3, numbers_list)\n",
    "\n",
    "filtered_numbers_list = list(filtered_numbers)\n",
    "print(filtered_numbers_list)\n"
   ]
  },
  {
   "cell_type": "code",
   "execution_count": 6,
   "id": "56444d15",
   "metadata": {},
   "outputs": [
    {
     "name": "stdout",
     "output_type": "stream",
     "text": [
      "['php', 'aba', 'radar', 'level']\n"
     ]
    }
   ],
   "source": [
    "#Q6\n",
    "\n",
    "words_list = ['python', 'php', 'aba', 'radar', 'level']\n",
    "\n",
    "palindromes = filter(lambda word: word == word[::-1], words_list)\n",
    "\n",
    "palindromes_list = list(palindromes)\n",
    "print(palindromes_list)\n"
   ]
  },
  {
   "cell_type": "code",
   "execution_count": null,
   "id": "4a6bc094",
   "metadata": {},
   "outputs": [],
   "source": []
  }
 ],
 "metadata": {
  "kernelspec": {
   "display_name": "Python 3 (ipykernel)",
   "language": "python",
   "name": "python3"
  },
  "language_info": {
   "codemirror_mode": {
    "name": "ipython",
    "version": 3
   },
   "file_extension": ".py",
   "mimetype": "text/x-python",
   "name": "python",
   "nbconvert_exporter": "python",
   "pygments_lexer": "ipython3",
   "version": "3.9.12"
  }
 },
 "nbformat": 4,
 "nbformat_minor": 5
}
