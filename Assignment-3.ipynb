{
 "cells": [
  {
   "cell_type": "code",
   "execution_count": 2,
   "id": "4152a30d",
   "metadata": {},
   "outputs": [
    {
     "name": "stdout",
     "output_type": "stream",
     "text": [
      "[1, 3, 5, 7, 9, 11, 13, 15, 17, 19, 21, 23, 25]\n"
     ]
    }
   ],
   "source": [
    "#Q1\n",
    "\n",
    "#The keyword used to create a function in Python is \"def\".\n",
    "\n",
    "def find_odd():\n",
    "    odd_lst= []\n",
    "    for i in range(1,26):\n",
    "        if i %2 != 0:\n",
    "            odd_lst.append(i)\n",
    "    return odd_lst\n",
    "\n",
    "odd_num = find_odd()\n",
    "\n",
    "print(odd_num)"
   ]
  },
  {
   "cell_type": "markdown",
   "id": "99c40a56",
   "metadata": {},
   "source": [
    "# Q2\n",
    "\n",
    "In Python, both are used in function definitions to allow a function to accept a variable number of arguments.\n",
    "\n",
    "1) *args (Arbitrary Arguments):\n",
    "    \n",
    "The *args syntax allows a function to accept any number of positional arguments. It collects all the positional arguments passed to the function and packs them into a tuple.\n",
    "\n",
    "Below is the function of it:\n",
    "\n",
    "def calculate_sum(*args):\n",
    "    total = 0\n",
    "    for num in args:\n",
    "        total += num\n",
    "    return total\n",
    "\n",
    "result = calculate_sum(1, 2, 3, 4, 5)\n",
    "print(result)\n",
    "\n",
    "2) **kwargs (Keyword Arguments):\n",
    "    \n",
    "The **kwargs syntax allows a function to accept any number of keyword arguments (key-value pairs). It collects all the keyword arguments passed to the function and packs them into a dictionary\n",
    "\n",
    "Below is the function of it:\n",
    "    \n",
    "def display_kwargs(**kwargs):\n",
    "    return kwargs\n",
    "\n",
    "display_kwargs(name=\"Rohan\", age=25, city=\"Pune\")"
   ]
  },
  {
   "cell_type": "code",
   "execution_count": 3,
   "id": "ddbeb946",
   "metadata": {},
   "outputs": [
    {
     "name": "stdout",
     "output_type": "stream",
     "text": [
      "2\n",
      "4\n",
      "6\n",
      "8\n",
      "10\n"
     ]
    }
   ],
   "source": [
    "#Q3\n",
    "\n",
    "'''\n",
    "In Python, an iterator is an object that allows you to traverse a collection (like a list) one element at a time. \n",
    "Iterators implement two essential methods:\n",
    "\n",
    "iter(): This method is used to initialize an iterator object. It returns an iterator for the given collection.\n",
    "\n",
    "next(): This method is used for iteration. It retrieves the next element from the iterator. \n",
    "        When there are no more elements to retrieve, it raises the StopIteration exception.\n",
    "'''\n",
    "\n",
    "my_list = [2, 4, 6, 8, 10, 12, 14, 16, 18, 20]\n",
    "\n",
    "my_iterator = iter(my_list)\n",
    "\n",
    "for _ in range(5):\n",
    "    element = next(my_iterator)\n",
    "    print(element)\n"
   ]
  },
  {
   "cell_type": "code",
   "execution_count": 4,
   "id": "2fe7dfeb",
   "metadata": {},
   "outputs": [
    {
     "name": "stdout",
     "output_type": "stream",
     "text": [
      "0\n",
      "2\n",
      "4\n",
      "6\n",
      "8\n"
     ]
    }
   ],
   "source": [
    "#Q4\n",
    "\n",
    "'''\n",
    "In Python, a generator function is a special type of function that allows you to create iterators. \n",
    "It uses the yield keyword instead of return to produce a series of values one at a time. \n",
    "'''\n",
    "\n",
    "def generate_even_numbers(n):\n",
    "    count = 0\n",
    "    while count < n:\n",
    "        yield 2 * count\n",
    "        count += 1\n",
    "\n",
    "even_generator = generate_even_numbers(5)\n",
    "\n",
    "for number in even_generator:\n",
    "    print(number)"
   ]
  },
  {
   "cell_type": "code",
   "execution_count": 5,
   "id": "c4832aa1",
   "metadata": {},
   "outputs": [
    {
     "name": "stdout",
     "output_type": "stream",
     "text": [
      "2\n",
      "3\n",
      "5\n",
      "7\n",
      "11\n",
      "13\n",
      "17\n",
      "19\n",
      "23\n",
      "29\n",
      "31\n",
      "37\n",
      "41\n",
      "43\n",
      "47\n",
      "53\n",
      "59\n",
      "61\n",
      "67\n",
      "71\n"
     ]
    }
   ],
   "source": [
    "#Q5\n",
    "\n",
    "def generate_primes(limit):\n",
    "    sieve = [True] * (limit + 1)\n",
    "    sieve[0] = sieve[1] = False\n",
    "\n",
    "    for num in range(2, int(limit ** 0.5) + 1):\n",
    "        if sieve[num]:\n",
    "            for multiple in range(num * num, limit + 1, num):\n",
    "                sieve[multiple] = False\n",
    "\n",
    "    for num in range(2, limit + 1):\n",
    "        if sieve[num]:\n",
    "            yield num\n",
    "\n",
    "prime_generator = generate_primes(1000)\n",
    "\n",
    "for _ in range(20):\n",
    "    prime = next(prime_generator)\n",
    "    print(prime)\n"
   ]
  },
  {
   "cell_type": "code",
   "execution_count": null,
   "id": "f80511b0",
   "metadata": {},
   "outputs": [],
   "source": []
  }
 ],
 "metadata": {
  "kernelspec": {
   "display_name": "Python 3 (ipykernel)",
   "language": "python",
   "name": "python3"
  },
  "language_info": {
   "codemirror_mode": {
    "name": "ipython",
    "version": 3
   },
   "file_extension": ".py",
   "mimetype": "text/x-python",
   "name": "python",
   "nbconvert_exporter": "python",
   "pygments_lexer": "ipython3",
   "version": "3.9.12"
  }
 },
 "nbformat": 4,
 "nbformat_minor": 5
}
