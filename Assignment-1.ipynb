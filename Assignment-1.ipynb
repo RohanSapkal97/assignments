{
 "cells": [
  {
   "cell_type": "code",
   "execution_count": 1,
   "id": "472b3641-d77b-4a87-954d-906c69b5ce24",
   "metadata": {},
   "outputs": [],
   "source": [
    "# Q1\n",
    "\n",
    "# (i) string\n",
    "s = 'Rohan'\n",
    "    \n",
    "# (ii) list\n",
    "l = [1,2,3,\"Rohan\",4+3j]\n",
    "    \n",
    "# (iii) float\n",
    "f = 66.6\n",
    "    \n",
    "# (iv) tuple\n",
    "t = (1,2,3,\"Rohan\",4+3j)"
   ]
  },
  {
   "cell_type": "markdown",
   "id": "3850c4be",
   "metadata": {},
   "source": [
    "# Q2\n",
    "\n",
    "(i) var1 = ''\n",
    "-> Datatype on the var1 is string (str).\n",
    "\n",
    "(ii) var2 = ‘[ DS , ML , Python]’\n",
    "-> Datatype on the var2 is string (str).\n",
    "\n",
    "(iii) var3 = [ ‘DS’ , ’ML’ , ‘Python’ ]\n",
    "-> Datatype on the var3 is list.\n",
    "\n",
    "(iv) var4 = 1.\n",
    "-> Datatype on the var4 is float."
   ]
  },
  {
   "cell_type": "markdown",
   "id": "58d80d3d",
   "metadata": {},
   "source": [
    "# Q3 \n",
    "\n",
    "(i) /\n",
    "-> '/' is a Division operator. It is used to divide numbers. Example: 4/2=2\n",
    "\n",
    "(ii) %\n",
    "-> '%' is a Modulo operator. It is used to find the remainder of division. Example: 5%2=1\n",
    "\n",
    "(iii) //\n",
    "-> '//' is a Floor Division operator. Example: 10//3=3\n",
    "\n",
    "(iv) **\n",
    "-> '**' is a Power operator. It used find the power of given number. Example: 2**3=8"
   ]
  },
  {
   "cell_type": "code",
   "execution_count": 2,
   "id": "946fe0ad-dc6e-4828-b8dc-acb4c53270d8",
   "metadata": {},
   "outputs": [
    {
     "name": "stdout",
     "output_type": "stream",
     "text": [
      "7 --> <class 'int'>\n",
      "18 --> <class 'int'>\n",
      "3.34 --> <class 'float'>\n",
      "Rohan --> <class 'str'>\n",
      "(2+3j) --> <class 'complex'>\n",
      "[24, 2] --> <class 'list'>\n",
      "('Hello', 1) --> <class 'tuple'>\n",
      "90 --> <class 'int'>\n",
      "22.2 --> <class 'float'>\n",
      "3 --> <class 'int'>\n"
     ]
    }
   ],
   "source": [
    "#Q4\n",
    "\n",
    "r = [7, 18, 3.34, \"Rohan\", 2+3j, [24,2], (\"Hello\",1), 90, 22.2, 3]\n",
    "\n",
    "for i in r:\n",
    "    print(i ,'-->',type(i))"
   ]
  },
  {
   "cell_type": "code",
   "execution_count": 3,
   "id": "b6a40750-84f4-41c6-b845-9b82697341ac",
   "metadata": {},
   "outputs": [
    {
     "name": "stdout",
     "output_type": "stream",
     "text": [
      "Enter number 1 : 80\n",
      "Enter number 2 : 2\n",
      "Number is divisible\n",
      "Number of times it is divisible:  3\n"
     ]
    }
   ],
   "source": [
    "#Q5\n",
    "\n",
    "n1 = int(input(\"Enter number 1 : \"))\n",
    "n2 = int(input(\"Enter number 2 : \"))\n",
    "n3 = -1\n",
    "\n",
    "if(n1%n2==0):\n",
    "    print(\"Number is divisible\")\n",
    "    while(n1%n2==0):\n",
    "        n3+=1\n",
    "        n1 = n1/n2\n",
    "    print(\"Number of times it is divisible: \",n3)\n",
    "else:\n",
    "    print(\"Number is not divisible\")"
   ]
  },
  {
   "cell_type": "code",
   "execution_count": 4,
   "id": "f61b37bb-0e7b-45fe-99a2-9ae62bd2fd68",
   "metadata": {},
   "outputs": [
    {
     "name": "stdout",
     "output_type": "stream",
     "text": [
      "1  is not divisible by 3.\n",
      "2  is not divisible by 3.\n",
      "3  is divisible by 3.\n",
      "4  is not divisible by 3.\n",
      "5  is not divisible by 3.\n",
      "6  is divisible by 3.\n",
      "7  is not divisible by 3.\n",
      "8  is not divisible by 3.\n",
      "9  is divisible by 3.\n",
      "10  is not divisible by 3.\n",
      "11  is not divisible by 3.\n",
      "12  is divisible by 3.\n",
      "13  is not divisible by 3.\n",
      "14  is not divisible by 3.\n",
      "15  is divisible by 3.\n",
      "16  is not divisible by 3.\n",
      "17  is not divisible by 3.\n",
      "18  is divisible by 3.\n",
      "19  is not divisible by 3.\n",
      "20  is not divisible by 3.\n",
      "21  is divisible by 3.\n",
      "22  is not divisible by 3.\n",
      "23  is not divisible by 3.\n",
      "24  is divisible by 3.\n",
      "25  is not divisible by 3.\n"
     ]
    }
   ],
   "source": [
    "#Q6\n",
    "\n",
    "l1 = [1,2,3,4,5,6,7,8,9,10,11,12,13,14,15,16,17,18,19,20,21,22,23,24,25]\n",
    "\n",
    "for i in l1:\n",
    "    if i%3==0:\n",
    "        print(i,\" is divisible by 3.\")\n",
    "    else:\n",
    "        print(i,\" is not divisible by 3.\")\n"
   ]
  },
  {
   "cell_type": "markdown",
   "id": "acd47fa8",
   "metadata": {},
   "source": [
    "# Q7\n",
    "-> Mutable data types are those whose values can be modified or updated. This means that you can change individual elements or properties of the data type without creating a new instance. Examples of mutable data type include lists, dictionaries, and sets.\n",
    "\n",
    "Immutable data types are those whose values cannot be changed after they are created. If you need to modify an immutable data type, you have to create a new instance with the desired changes. Examples of immutable data types include strings, numbers, and tuples."
   ]
  },
  {
   "cell_type": "code",
   "execution_count": null,
   "id": "3810ac04-388f-46ab-a98d-3ef57734febd",
   "metadata": {},
   "outputs": [],
   "source": []
  }
 ],
 "metadata": {
  "kernelspec": {
   "display_name": "Python 3 (ipykernel)",
   "language": "python",
   "name": "python3"
  },
  "language_info": {
   "codemirror_mode": {
    "name": "ipython",
    "version": 3
   },
   "file_extension": ".py",
   "mimetype": "text/x-python",
   "name": "python",
   "nbconvert_exporter": "python",
   "pygments_lexer": "ipython3",
   "version": "3.9.12"
  }
 },
 "nbformat": 4,
 "nbformat_minor": 5
}
