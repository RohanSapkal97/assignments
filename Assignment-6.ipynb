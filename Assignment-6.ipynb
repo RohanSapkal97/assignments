{
 "cells": [
  {
   "cell_type": "code",
   "execution_count": 1,
   "id": "f8c35edd",
   "metadata": {},
   "outputs": [
    {
     "name": "stdout",
     "output_type": "stream",
     "text": [
      "Car: Max Speed - 200 km/h, Average Speed - 80 km/h\n",
      "Bike: Max Speed - 150 km/h, Average Speed - 60 km/h\n"
     ]
    }
   ],
   "source": [
    "#Q1\n",
    "\n",
    "class Vehicle:\n",
    "    def __init__(self, name_of_vehicle, max_speed, average_speed):\n",
    "        self.name_of_vehicle = name_of_vehicle\n",
    "        self.max_speed = max_speed\n",
    "        self.average_speed = average_speed\n",
    "\n",
    "car = Vehicle(\"Car\", 200, 80)\n",
    "bike = Vehicle(\"Bike\", 150, 60)\n",
    "\n",
    "print(f\"{car.name_of_vehicle}: Max Speed - {car.max_speed} km/h, Average Speed - {car.average_speed} km/h\")\n",
    "print(f\"{bike.name_of_vehicle}: Max Speed - {bike.max_speed} km/h, Average Speed - {bike.average_speed} km/h\")\n"
   ]
  },
  {
   "cell_type": "code",
   "execution_count": 2,
   "id": "d99b8812",
   "metadata": {},
   "outputs": [
    {
     "name": "stdout",
     "output_type": "stream",
     "text": [
      "Car has a seating capacity of 5 passengers.\n"
     ]
    }
   ],
   "source": [
    "#Q2\n",
    "\n",
    "class Vehicle:\n",
    "    def __init__(self, name_of_vehicle, max_speed, average_speed):\n",
    "        self.name_of_vehicle = name_of_vehicle\n",
    "        self.max_speed = max_speed\n",
    "        self.average_speed = average_speed\n",
    "\n",
    "class Car(Vehicle):\n",
    "    def seating_capacity(self, capacity):\n",
    "        return f\"{self.name_of_vehicle} has a seating capacity of {capacity} passengers.\"\n",
    "\n",
    "car = Car(\"Car\", 200, 80)\n",
    "\n",
    "capacity_info = car.seating_capacity(5)\n",
    "print(capacity_info)\n"
   ]
  },
  {
   "cell_type": "code",
   "execution_count": 3,
   "id": "3e4d0074",
   "metadata": {},
   "outputs": [],
   "source": [
    "#Q3\n",
    "\n",
    "'''\n",
    "Multiple inheritance is a feature in object-oriented programming where a class inherits attributes and methods from \n",
    "more than one parent class.\n",
    "\n",
    "Example:\n",
    "'''\n",
    "\n",
    "class Animal:\n",
    "    def speak(self):\n",
    "        pass\n",
    "\n",
    "class Mammal(Animal):\n",
    "    def walk(self):\n",
    "        pass\n",
    "\n",
    "class Bird(Animal):\n",
    "    def fly(self):\n",
    "        pass\n",
    "\n",
    "class Bat(Mammal, Bird):\n",
    "    pass\n",
    "\n",
    "bat = Bat()\n",
    "\n",
    "bat.walk()\n",
    "bat.fly()\n"
   ]
  },
  {
   "cell_type": "code",
   "execution_count": 4,
   "id": "08b35f70",
   "metadata": {},
   "outputs": [
    {
     "name": "stdout",
     "output_type": "stream",
     "text": [
      "Name: Sahil\n",
      "Age: 20\n",
      "New Name: Rohan\n",
      "New Age: 25\n"
     ]
    }
   ],
   "source": [
    "#Q4\n",
    "\n",
    "'''\n",
    "In Python, getter and setter methods are used to control the access and modification of private attributes (variables) \n",
    "of a class.\n",
    "\n",
    "Getter Method: A getter method is used to retrieve the value of a private attribute. It is typically named get_attribute_name() \n",
    "and returns the value of the attribute.\n",
    "\n",
    "Setter Method: A setter method is used to modify the value of a private attribute. It is typically named \n",
    "set_attribute_name(value) and allows you to set a new value for the attribute after performing any necessary \n",
    "validation or logic.\n",
    "\n",
    "Example :\n",
    "'''\n",
    "\n",
    "class Student:\n",
    "    def __init__(self, name, age):\n",
    "        self.__name = name\n",
    "        self.__age = age\n",
    "\n",
    "    def get_name(self):\n",
    "        return self.__name\n",
    "\n",
    "    def set_name(self, new_name):\n",
    "        if isinstance(new_name, str):\n",
    "            self.__name = new_name\n",
    "        else:\n",
    "            print(\"Invalid name format\")\n",
    "\n",
    "    def get_age(self):\n",
    "        return self.__age\n",
    "\n",
    "    def set_age(self, new_age):\n",
    "        if isinstance(new_age, int) and new_age >= 0:\n",
    "            self.__age = new_age\n",
    "        else:\n",
    "            print(\"Invalid age\")\n",
    "\n",
    "student = Student(\"Sahil\", 20)\n",
    "\n",
    "print(\"Name:\", student.get_name())  \n",
    "print(\"Age:\", student.get_age())    \n",
    "\n",
    "student.set_name(\"Rohan\")\n",
    "student.set_age(25)\n",
    "\n",
    "print(\"New Name:\", student.get_name())  \n",
    "print(\"New Age:\", student.get_age())    \n"
   ]
  },
  {
   "cell_type": "code",
   "execution_count": 5,
   "id": "4b730e97",
   "metadata": {},
   "outputs": [
    {
     "name": "stdout",
     "output_type": "stream",
     "text": [
      "Circle Area: 78.5\n",
      "Rectangle Area: 24\n"
     ]
    }
   ],
   "source": [
    "#Q5\n",
    "\n",
    "'''\n",
    "Method overriding is a concept in object-oriented programming where a subclass provides a specific implementation for a method \n",
    "that is already defined in its superclass. \n",
    "\n",
    "Example:\n",
    "'''\n",
    "\n",
    "class Shape:\n",
    "    def area(self):\n",
    "        pass\n",
    "\n",
    "class Circle(Shape):\n",
    "    def __init__(self, radius):\n",
    "        self.radius = radius\n",
    "\n",
    "    def area(self):\n",
    "        return 3.14 * self.radius * self.radius\n",
    "\n",
    "class Rectangle(Shape):\n",
    "    def __init__(self, length, width):\n",
    "        self.length = length\n",
    "        self.width = width\n",
    "\n",
    "    def area(self):\n",
    "        return self.length * self.width\n",
    "\n",
    "circle = Circle(5)\n",
    "rectangle = Rectangle(4, 6)\n",
    "\n",
    "print(\"Circle Area:\", circle.area())       \n",
    "print(\"Rectangle Area:\", rectangle.area()) \n"
   ]
  },
  {
   "cell_type": "code",
   "execution_count": null,
   "id": "f4470bcc",
   "metadata": {},
   "outputs": [],
   "source": []
  }
 ],
 "metadata": {
  "kernelspec": {
   "display_name": "Python 3 (ipykernel)",
   "language": "python",
   "name": "python3"
  },
  "language_info": {
   "codemirror_mode": {
    "name": "ipython",
    "version": 3
   },
   "file_extension": ".py",
   "mimetype": "text/x-python",
   "name": "python",
   "nbconvert_exporter": "python",
   "pygments_lexer": "ipython3",
   "version": "3.9.12"
  }
 },
 "nbformat": 4,
 "nbformat_minor": 5
}
